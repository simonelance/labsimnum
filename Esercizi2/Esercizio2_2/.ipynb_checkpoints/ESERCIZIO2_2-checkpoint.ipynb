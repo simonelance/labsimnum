{
 "cells": [
  {
   "cell_type": "code",
   "execution_count": 1,
   "id": "91516359",
   "metadata": {},
   "outputs": [
    {
     "name": "stdout",
     "output_type": "stream",
     "text": [
      "/home/simonelance/Documents/MAGISTRALE/LABO DI GALLI/Esercizi/Esercizi2/Esercizio2_2\r\n"
     ]
    }
   ],
   "source": [
    "!pwd"
   ]
  },
  {
   "cell_type": "code",
   "execution_count": 2,
   "id": "83240124",
   "metadata": {},
   "outputs": [],
   "source": [
    "import matplotlib.pyplot as plt\n",
    "import pandas as pd\n",
    "import numpy as np"
   ]
  },
  {
   "cell_type": "code",
   "execution_count": null,
   "id": "7f9c8f22",
   "metadata": {},
   "outputs": [],
   "source": [
    "file_path = \"/home/simonelance/Documents/MAGISTRALE/LABO DI GALLI/Esercizi/data/risultati2_2_1.out\"\n",
    "\n",
    "\n",
    "df = pd.read_csv(file_path, delim_whitespace=True)\n",
    "\n",
    "# Mostra le prime righe per verificare\n",
    "print(df.head())"
   ]
  }
 ],
 "metadata": {
  "kernelspec": {
   "display_name": "Python 3 (ipykernel)",
   "language": "python",
   "name": "python3"
  },
  "language_info": {
   "codemirror_mode": {
    "name": "ipython",
    "version": 3
   },
   "file_extension": ".py",
   "mimetype": "text/x-python",
   "name": "python",
   "nbconvert_exporter": "python",
   "pygments_lexer": "ipython3",
   "version": "3.10.16"
  }
 },
 "nbformat": 4,
 "nbformat_minor": 5
}
